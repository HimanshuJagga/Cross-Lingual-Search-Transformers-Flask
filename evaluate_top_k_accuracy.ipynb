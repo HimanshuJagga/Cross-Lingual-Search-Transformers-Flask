{
 "cells": [
  {
   "cell_type": "code",
   "execution_count": 1,
   "id": "13c0e0f7-48b3-4550-9c2d-7eccf77e4b5a",
   "metadata": {},
   "outputs": [
    {
     "name": "stdout",
     "output_type": "stream",
     "text": [
      "WARNING:tensorflow:From C:\\Users\\91951\\anaconda3\\Lib\\site-packages\\tf_keras\\src\\losses.py:2976: The name tf.losses.sparse_softmax_cross_entropy is deprecated. Please use tf.compat.v1.losses.sparse_softmax_cross_entropy instead.\n",
      "\n",
      "Top-1 Accuracy: 56.50% (113/200)\n",
      "Top-3 Accuracy: 86.00% (172/200)\n",
      "Top-5 Accuracy: 93.50% (187/200)\n"
     ]
    }
   ],
   "source": [
    "# Step 1: Load required libraries\n",
    "import pickle\n",
    "import torch\n",
    "from sentence_transformers import SentenceTransformer, util\n",
    "import warnings\n",
    "warnings.filterwarnings('ignore')\n",
    "\n",
    "# Step 2: Load saved embeddings + model\n",
    "with open(\"embeddings.pkl\", \"rb\") as f:\n",
    "    data = pickle.load(f)\n",
    "\n",
    "english_sentences = data[\"english_sentences\"]\n",
    "french_sentences = data[\"french_sentences\"]\n",
    "french_embeddings = data[\"french_embeddings\"]\n",
    "\n",
    "model = SentenceTransformer(\"paraphrase-multilingual-MiniLM-L12-v2\")\n",
    "\n",
    "# Step 3: Encode English sentences\n",
    "english_embeddings = model.encode(english_sentences, convert_to_tensor=True)\n",
    "\n",
    "# Step 4: Evaluate Top-1, Top-3, Top-5\n",
    "top_1, top_3, top_5 = 0, 0, 0\n",
    "total = len(english_embeddings)\n",
    "\n",
    "for i, query_embedding in enumerate(english_embeddings):\n",
    "    similarity = util.cos_sim(query_embedding, french_embeddings)[0]\n",
    "    top_indices = torch.topk(similarity, k=5).indices.tolist()\n",
    "\n",
    "    if i == top_indices[0]: top_1 += 1\n",
    "    if i in top_indices[:3]: top_3 += 1\n",
    "    if i in top_indices: top_5 += 1\n",
    "\n",
    "print(f\"Top-1 Accuracy: {top_1 / total * 100:.2f}% ({top_1}/{total})\")\n",
    "print(f\"Top-3 Accuracy: {top_3 / total * 100:.2f}% ({top_3}/{total})\")\n",
    "print(f\"Top-5 Accuracy: {top_5 / total * 100:.2f}% ({top_5}/{total})\")"
   ]
  },
  {
   "cell_type": "code",
   "execution_count": null,
   "id": "a66d8217-76c7-4a46-8e6c-095fc6f847a1",
   "metadata": {},
   "outputs": [],
   "source": []
  }
 ],
 "metadata": {
  "kernelspec": {
   "display_name": "Python [conda env:base] *",
   "language": "python",
   "name": "conda-base-py"
  },
  "language_info": {
   "codemirror_mode": {
    "name": "ipython",
    "version": 3
   },
   "file_extension": ".py",
   "mimetype": "text/x-python",
   "name": "python",
   "nbconvert_exporter": "python",
   "pygments_lexer": "ipython3",
   "version": "3.12.7"
  }
 },
 "nbformat": 4,
 "nbformat_minor": 5
}
